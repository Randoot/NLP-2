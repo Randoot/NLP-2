{
  "nbformat": 4,
  "nbformat_minor": 0,
  "metadata": {
    "colab": {
      "provenance": [],
      "include_colab_link": true
    },
    "kernelspec": {
      "name": "python3",
      "display_name": "Python 3"
    },
    "language_info": {
      "name": "python"
    }
  },
  "cells": [
    {
      "cell_type": "markdown",
      "metadata": {
        "id": "view-in-github",
        "colab_type": "text"
      },
      "source": [
        "<a href=\"https://colab.research.google.com/github/Randoot/NLP-2/blob/main/TF_IDF.ipynb\" target=\"_parent\"><img src=\"https://colab.research.google.com/assets/colab-badge.svg\" alt=\"Open In Colab\"/></a>"
      ]
    },
    {
      "cell_type": "markdown",
      "source": [
        "## Introduction to TF-IDF\n",
        "\n",
        "Term Frequency-Inverse Document Frequency (TF-IDF) is a statistical measure used to evaluate the importance of a word in a document relative to a collection of documents (corpus). It helps in identifying terms that are more relevant to a particular document while reducing the influence of commonly occurring terms across all documents.\n",
        "\n",
        "1. **Term Frequency (TF)**: Measures how frequently a term appears in a document. It is often normalized by the total number of terms in the document.\n",
        "2. **Inverse Document Frequency (IDF)**: Measures how important a term is by evaluating how frequently it appears across all documents. Terms that appear in fewer documents have higher IDF scores.\n",
        "3. **TF-IDF Score**: The product of TF and IDF, which helps in identifying terms that are unique to a document and relevant in the context of the corpus."
      ],
      "metadata": {
        "id": "PhxLoLVbJrcW"
      }
    },
    {
      "cell_type": "code",
      "source": [
        "## Example: Using Scikit-Learn for TF-IDF\n",
        "#Convert a collection of raw documents to a matrix of TF-IDF features.\n",
        "# Equivalent to CountVectorizer\n",
        "from sklearn.feature_extraction.text import TfidfVectorizer"
      ],
      "metadata": {
        "id": "saN8v1mhJw5I"
      },
      "execution_count": 1,
      "outputs": []
    },
    {
      "cell_type": "code",
      "source": [
        "# Sample documents\n",
        "documents = [\n",
        "    \"I love programming in Python\",\n",
        "    \"Python programming is fun\",\n",
        "    \"Machine learning is fascinating\"\n",
        "]"
      ],
      "metadata": {
        "id": "RZ7JVD7EJztw"
      },
      "execution_count": 2,
      "outputs": []
    },
    {
      "cell_type": "markdown",
      "source": [
        "# Create the TfidfVectorizer object\n"
      ],
      "metadata": {
        "id": "9inkRFz2KAH_"
      }
    },
    {
      "cell_type": "code",
      "source": [
        "vectorizer = TfidfVectorizer()"
      ],
      "metadata": {
        "id": "akJADWhnJ2no"
      },
      "execution_count": 3,
      "outputs": []
    },
    {
      "cell_type": "markdown",
      "source": [
        "# Fit and transform the documents\n"
      ],
      "metadata": {
        "id": "vUZQP-LpKBqR"
      }
    },
    {
      "cell_type": "code",
      "source": [
        "X = vectorizer.fit_transform(documents)"
      ],
      "metadata": {
        "id": "i7pQv0VVJ34P"
      },
      "execution_count": 4,
      "outputs": []
    },
    {
      "cell_type": "markdown",
      "source": [
        "# Convert to array and get feature names\n"
      ],
      "metadata": {
        "id": "juFqfaOhKDGw"
      }
    },
    {
      "cell_type": "code",
      "source": [
        "X_array = X.toarray()\n",
        "feature_names = vectorizer.get_feature_names_out()"
      ],
      "metadata": {
        "id": "CeHS-15kJ4f8"
      },
      "execution_count": 5,
      "outputs": []
    },
    {
      "cell_type": "markdown",
      "source": [
        "# Display the TF-IDF representation\n"
      ],
      "metadata": {
        "id": "O0Ax4H1GKEuK"
      }
    },
    {
      "cell_type": "code",
      "source": [
        "import pandas as pd\n",
        "#pd.DataFrame(...) -> creates a DataFrame object from the provided data.\n",
        "# A DataFrame: table where data is organized into rows and columns\n",
        "df = pd.DataFrame(X_array, columns=feature_names)\n",
        "print(df)"
      ],
      "metadata": {
        "id": "epDrtKN9J5kZ",
        "colab": {
          "base_uri": "https://localhost:8080/"
        },
        "outputId": "b1bc7aac-a847-4e78-c382-5e3010ba0571"
      },
      "execution_count": 6,
      "outputs": [
        {
          "output_type": "stream",
          "name": "stdout",
          "text": [
            "   fascinating       fun        in        is  learning      love   machine  \\\n",
            "0     0.000000  0.000000  0.562829  0.000000  0.000000  0.562829  0.000000   \n",
            "1     0.000000  0.604652  0.000000  0.459854  0.000000  0.000000  0.000000   \n",
            "2     0.528635  0.000000  0.000000  0.402040  0.528635  0.000000  0.528635   \n",
            "\n",
            "   programming    python  \n",
            "0     0.428046  0.428046  \n",
            "1     0.459854  0.459854  \n",
            "2     0.000000  0.000000  \n"
          ]
        }
      ]
    },
    {
      "cell_type": "code",
      "source": [
        "documents = [\n",
        "    \"Data science is an interdisciplinary field\",\n",
        "    \"It uses scientific methods, processes, algorithms\",\n",
        "    \"Data science is used for data analysis\"\n",
        "]\n",
        "\n"
      ],
      "metadata": {
        "id": "YZ0uHgt6KJ3C"
      },
      "execution_count": 7,
      "outputs": []
    },
    {
      "cell_type": "markdown",
      "source": [
        "# #TODO : Create the TfidfVectorizer object\n"
      ],
      "metadata": {
        "id": "WUN_TXkaKLhc"
      }
    },
    {
      "cell_type": "markdown",
      "source": [
        "# #TODO : Fit and transform the documents\n"
      ],
      "metadata": {
        "id": "hQBH06sNKSbH"
      }
    },
    {
      "cell_type": "markdown",
      "source": [
        "# #TODO : Convert to array and get feature names\n"
      ],
      "metadata": {
        "id": "r2L8vkR8KTmK"
      }
    },
    {
      "cell_type": "markdown",
      "source": [
        "# #TODO : Display the TF-IDF representation\n"
      ],
      "metadata": {
        "id": "Dz4Sc5V8KVAu"
      }
    }
  ]
}